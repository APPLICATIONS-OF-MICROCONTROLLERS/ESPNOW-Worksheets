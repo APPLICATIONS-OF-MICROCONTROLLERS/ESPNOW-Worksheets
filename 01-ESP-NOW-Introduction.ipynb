{
 "cells": [
  {
   "cell_type": "markdown",
   "id": "937838e5",
   "metadata": {},
   "source": [
    "# บทที่ 1: แนะนำ ESP-NOW \n",
    "## การสื่อสารไร้สายสำหรับ ESP32 ด้วย ESP-IDF\n",
    "\n",
    "![ESP-NOW Logo](https://docs.espressif.com/projects/esp-idf/en/latest/_images/esp-now-intro.png)\n",
    "\n",
    "ESP-NOW เป็นโปรโตคอลการสื่อสารไร้สายที่พัฒนาโดย Espressif สำหรับการสื่อสารระหว่างอุปกรณ์ ESP32 โดยไม่ต้องใช้ Wi-Fi Router หรือ Access Point\n",
    "\n",
    "### เป้าหมายการเรียนรู้\n",
    "- เข้าใจหลักการทำงานของ ESP-NOW\n",
    "- รู้จักข้อดีและข้อจำกัดของ ESP-NOW\n",
    "- เรียนรู้กรณีการใช้งานต่างๆ\n",
    "- เตรียมพร้อมสำหรับการพัฒนาด้วย ESP-IDF"
   ]
  },
  {
   "cell_type": "markdown",
   "id": "358217fd",
   "metadata": {},
   "source": [
    "## ESP-NOW คืออะไร?\n",
    "\n",
    "ESP-NOW เป็นโปรโตคอลการสื่อสารแบบ **connectionless** ที่ใช้ IEEE 802.11 (Wi-Fi) เป็นฐาน แต่ไม่ต้องการการเชื่อมต่อ Wi-Fi แบบดั้งเดิม\n",
    "\n",
    "### คุณสมบัติหลัก:\n",
    "\n",
    "1. **การสื่อสารโดยตรง** - ไม่ต้องใช้ Router หรือ Access Point\n",
    "2. **ความเร็วสูง** - Latency ต่ำ เหมาะกับแอปพลิเคชันที่ต้องการ Real-time\n",
    "3. **การเข้ารหัส** - รองรับ AES-128 encryption\n",
    "4. **ประหยัดพลังงาน** - เหมาะกับอุปกรณ์ Battery-powered\n",
    "5. **การสื่อสารแบบ Broadcast** - สามารถส่งข้อมูลให้อุปกรณ์หลายตัวพร้อมกัน\n",
    "\n",
    "### รูปแบบการสื่อสาร:\n",
    "- **One-to-One**: ESP32 หนึ่งตัวส่งให้อีกตัวหนึ่ง\n",
    "- **One-to-Many**: ESP32 หนึ่งตัวส่งให้หลายตัว (Broadcasting)\n",
    "- **Many-to-One**: ESP32 หลายตัวส่งมายังตัวเดียว (Data Collection)\n",
    "- **Many-to-Many**: การสื่อสารแบบเครือข่าย Mesh"
   ]
  },
  {
   "cell_type": "markdown",
   "id": "6123c659",
   "metadata": {},
   "source": [
    "## ข้อดีและข้อจำกัดของ ESP-NOW\n",
    "\n",
    "### ✅ ข้อดี:\n",
    "- **ความเร็วสูง**: Latency ต่ำกว่า 10ms\n",
    "- **ไม่ต้องใช้ Router**: สื่อสารโดยตรงระหว่างอุปกรณ์\n",
    "- **ประหยัดพลังงาน**: เหมาะกับโปรเจค IoT\n",
    "- **ง่ายต่อการใช้งาน**: API ที่เรียบง่าย\n",
    "- **รองรับ Encryption**: ความปลอดภัยระดับ AES-128\n",
    "- **Range ไกล**: ระยะทางถึง 200+ เมตร (กลางแจ้ง)\n",
    "\n",
    "### ❌ ข้อจำกัด:\n",
    "- **ข้อมูลจำกัด**: สูงสุด 250 bytes ต่อ packet\n",
    "- **จำนวน Peers จำกัด**: สูงสุด 20 peers (10 encrypted + 10 unencrypted)\n",
    "- **ไม่รองรับ Internet**: ไม่สามารถเชื่อมต่อ Internet โดยตรง\n",
    "- **ต้องใช้ Channel เดียวกัน**: อุปกรณ์ทั้งหมดต้องอยู่ในช่องสัญญาณเดียวกัน\n",
    "- **ไม่มี Acknowledgment**: ไม่รับประกันการส่งข้อมูลสำเร็จ (ต้องทำเอง)"
   ]
  },
  {
   "cell_type": "markdown",
   "id": "47e1f7c6",
   "metadata": {},
   "source": [
    "## กรณีการใช้งาน ESP-NOW\n",
    "\n",
    "### 1. 🏠 Smart Home & IoT\n",
    "- **Sensor Networks**: เซ็นเซอร์หลายตัวส่งข้อมูลมายัง Gateway\n",
    "- **Smart Switches**: สวิตช์ไร้สายควบคุมไฟ LED\n",
    "- **Security Systems**: ระบบรักษาความปลอดภัยแบบ Real-time\n",
    "\n",
    "### 2. 🤖 Robotics & Automation  \n",
    "- **Remote Control**: การควบคุมหุ่นยนต์แบบไร้สาย\n",
    "- **Swarm Robotics**: หุ่นยนต์กลุ่มที่ทำงานร่วมกัน\n",
    "- **Industrial Control**: ระบบควบคุมในโรงงาน\n",
    "\n",
    "### 3. 🎮 Gaming & Entertainment\n",
    "- **Wireless Controllers**: จอยสติกแบบไร้สาย\n",
    "- **Multiplayer Games**: เกมส์ที่เล่นได้หลายคน\n",
    "- **Interactive Art**: งานศิลปะที่โต้ตอบได้\n",
    "\n",
    "### 4. 📊 Data Collection & Monitoring\n",
    "- **Environmental Monitoring**: ตรวจสอบสภาพแวดล้อม\n",
    "- **Agriculture**: ระบบเกษตรอัจฉริยะ\n",
    "- **Health Monitoring**: ตรวจสอบสุขภาพ"
   ]
  },
  {
   "cell_type": "markdown",
   "id": "18c9a7a7",
   "metadata": {},
   "source": [
    "## การเปรียบเทียบ ESP-NOW กับเทคโนโลยีอื่น\n",
    "\n",
    "| คุณสมบัติ | ESP-NOW | WiFi | Bluetooth | LoRa |\n",
    "|----------|---------|------|-----------|------|\n",
    "| **Range** | 200+ เมตร | 50-100 เมตर | 10-30 เมตร | 2-15 กม. |\n",
    "| **Latency** | < 10ms | 50-200ms | 100-500ms | 1-10 วินาที |\n",
    "| **Power** | ต่ำ | สูง | กลาง | ต่ำมาก |\n",
    "| **Data Rate** | 1 Mbps | 150 Mbps | 2 Mbps | 50 kbps |\n",
    "| **Setup** | ง่าย | ซับซ้อน | ปานกลาง | ง่าย |\n",
    "| **Cost** | ต่ำ | กลาง | ต่ำ | สูง |\n",
    "\n",
    "### เมื่อไรควรใช้ ESP-NOW?\n",
    "✅ **เหมาะสำหรับ:**\n",
    "- แอปพลิเคชันที่ต้องการ Real-time response\n",
    "- ระบบที่ไม่ต้องการ Internet connection\n",
    "- อุปกรณ์ที่ใช้แบตเตอรี่\n",
    "- การสื่อสารระยะกลาง (< 200m)\n",
    "\n",
    "❌ **ไม่เหมาะสำหรับ:**\n",
    "- การส่งไฟล์ขนาดใหญ่\n",
    "- แอปพลิเคชันที่ต้องการ Internet\n",
    "- ระบบที่ต้องการ Reliability สูงมาก\n",
    "- การสื่อสารระยะไกลมาก (> 1km)"
   ]
  },
  {
   "cell_type": "markdown",
   "id": "e9028d99",
   "metadata": {},
   "source": [
    "## สถาปัตยกรรมของ ESP-NOW\n",
    "\n",
    "### 1. MAC Address Based Communication\n",
    "ESP-NOW ใช้ MAC Address ในการระบุอุปกรณ์แต่ละตัว\n"
   ]
  },
  {
   "cell_type": "markdown",
   "id": "6a8e7a83",
   "metadata": {},
   "source": [
    "\n",
    "```\n",
    "Device A (AA:BB:CC:DD:EE:01) ←→ Device B (AA:BB:CC:DD:EE:02)\n",
    "```\n"
   ]
  },
  {
   "cell_type": "markdown",
   "id": "585af8e3",
   "metadata": {},
   "source": [
    "\n",
    "### 2. Peer Management\n",
    "- แต่ละอุปกรณ์ต้อง **เพิ่ม Peer** ก่อนการส่งข้อมูล\n",
    "- สามารถจัดการ Peer list ได้แบบ Dynamic\n",
    "- รองรับทั้ง **Encrypted** และ **Unencrypted** peers\n",
    "\n",
    "### 3. Callback Functions\n",
    "ESP-NOW ใช้ Callback functions สำหรับจัดการ Events:\n"
   ]
  },
  {
   "cell_type": "markdown",
   "id": "01f0f37c",
   "metadata": {},
   "source": [
    "\n",
    "```c\n",
    "// Callback เมื่อส่งข้อมูลเสร็จ\n",
    "void on_data_sent(const uint8_t *mac_addr, esp_now_send_status_t status)\n",
    "\n",
    "// Callback เมื่อรับข้อมูล\n",
    "void on_data_recv(const uint8_t *mac_addr, const uint8_t *data, int len)\n",
    "```\n"
   ]
  },
  {
   "cell_type": "markdown",
   "id": "96041bb1",
   "metadata": {},
   "source": [
    "\n",
    "### 4. Data Flow\n",
    "```\n",
    "[Application] → [ESP-NOW API] → [WiFi Driver] → [RF Hardware] \n",
    "                                                      ↓\n",
    "[RF Hardware] ← [WiFi Driver] ← [ESP-NOW API] ← [Application]\n",
    "```"
   ]
  },
  {
   "cell_type": "markdown",
   "id": "ad25909f",
   "metadata": {},
   "source": [
    "## ความต้องการของระบบ\n",
    "\n",
    "### Hardware Requirements:\n",
    "- **ESP32** (ESP32, ESP32-S2, ESP32-S3, ESP32-C3)\n",
    "- **แหล่งจ่ายไฟ**: 3.3V (แบตเตอรี่ หรือ USB)\n",
    "- **Antenna**: Internal หรือ External\n",
    "\n",
    "### Software Requirements:\n",
    "- **ESP-IDF v4.4+** (แนะนำ v5.0+)\n",
    "- **CMake 3.16+**\n",
    "- **Python 3.8+**\n",
    "- **Git**\n",
    "\n",
    "### Development Environment:\n",
    "- **VS Code** + ESP-IDF Extension\n",
    "- **Terminal** สำหรับ Command Line\n",
    "- **Serial Monitor** สำหรับ Debug\n",
    "\n",
    "### Knowledge Prerequisites:\n",
    "- พื้นฐาน **C Programming**\n",
    "- ความเข้าใจ **ESP-IDF Framework**\n",
    "- พื้นฐาน **Networking concepts**\n",
    "- ความรู้เรื่อง **FreeRTOS** (เบื้องต้น)"
   ]
  },
  {
   "cell_type": "markdown",
   "id": "77ed6d73",
   "metadata": {},
   "source": [
    "## โครงสร้างการเรียนรู้\n",
    "\n",
    "ในหลักสูตรนี้ เราจะเรียนรู้ ESP-NOW แบบ step-by-step ผ่าน Jupyter Notebooks ดังนี้:\n",
    "\n",
    "### 📚 Notebook Series:\n",
    "\n",
    "1. **01-ESP-NOW-Introduction.ipynb** (ปัจจุบัน)\n",
    "   - แนะนำและทฤษฎีพื้นฐาน\n",
    "\n",
    "2. **02-ESP-IDF-Setup.ipynb** \n",
    "   - การติดตั้งและตั้งค่า ESP-IDF\n",
    "   - การสร้างโปรเจคแรก\n",
    "\n",
    "3. **03-Point-to-Point-Communication.ipynb**\n",
    "   - การสื่อสารระหว่าง ESP32 2 ตัว\n",
    "   - Sender และ Receiver\n",
    "\n",
    "4. **04-Group-Broadcasting.ipynb**\n",
    "   - การ Broadcast ข้อมูลหลายตัว\n",
    "   - One-to-Many และ Many-to-Many\n",
    "\n",
    "5. **05-Advanced-Troubleshooting.ipynb**\n",
    "   - การ Debug และแก้ปัญหา\n",
    "   - เทคนิคการใช้งานขั้นสูง\n",
    "\n",
    "### 🎯 จุดประสงค์การเรียนรู้:\n",
    "- สามารถใช้ ESP-NOW ในโปรเจคจริงได้\n",
    "- เข้าใจการทำงานและข้อจำกัด  \n",
    "- รู้วิธีแก้ปัญหาเบื้องต้น\n",
    "- สามารถออกแบบระบบ ESP-NOW ได้"
   ]
  },
  {
   "cell_type": "markdown",
   "id": "94636836",
   "metadata": {},
   "source": [
    "## สรุป\n",
    "\n",
    "ESP-NOW เป็นเทคโนโลยีที่ทรงพลังสำหรับการสื่อสารไร้สายระหว่าง ESP32 ที่มีข้อดีหลายประการ:\n",
    "\n",
    "### 🌟 จุดเด่น:\n",
    "- **ง่ายต่อการใช้งาน** - API ที่เรียบง่าย\n",
    "- **ความเร็วสูง** - Latency ต่ำ เหมาะกับ Real-time applications\n",
    "- **ประหยัดพลังงาน** - เหมาะกับอุปกรณ์ Battery-powered\n",
    "- **ไม่ต้องใช้โครงสร้างพื้นฐาน** - ไม่ต้องมี Router หรือ Internet\n",
    "\n",
    "### 🎯 เหมาะสำหรับ:\n",
    "- IoT และ Smart Home projects\n",
    "- ระบบควบคุมแบบไร้สาย\n",
    "- Sensor networks\n",
    "- Gaming controllers\n",
    "- Robotics applications\n",
    "\n",
    "### 📖 ขั้นตอนต่อไป:\n",
    "ในบทต่อไป เราจะเรียนรู้การติดตั้งและตั้งค่า ESP-IDF เพื่อเริ่มต้นพัฒนาด้วย ESP-NOW\n",
    "\n",
    "**➡️ ไปที่: `02-ESP-IDF-Setup.ipynb`**\n",
    "\n",
    "---\n",
    "*หมายเหตุ: ตรวจสอบให้แน่ใจว่าคุณมี ESP32 อย่างน้อย 2 ตัวสำหรับการทดลอง*"
   ]
  }
 ],
 "metadata": {
  "language_info": {
   "name": "python"
  }
 },
 "nbformat": 4,
 "nbformat_minor": 5
}
